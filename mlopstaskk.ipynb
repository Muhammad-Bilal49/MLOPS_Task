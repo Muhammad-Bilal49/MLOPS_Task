{
  "nbformat": 4,
  "nbformat_minor": 0,
  "metadata": {
    "colab": {
      "provenance": [],
      "toc_visible": true
    },
    "kernelspec": {
      "name": "python3",
      "display_name": "Python 3"
    },
    "language_info": {
      "name": "python"
    }
  },
  "cells": [
    {
      "cell_type": "code",
      "source": [
        "import pandas as pd\n",
        "import numpy as np\n",
        "import mlflow\n",
        "from mlflow.tracking import MlflowClient\n",
        "from sklearn.model_selection import train_test_split\n",
        "from sklearn.preprocessing import StandardScaler\n",
        "from sklearn.linear_model import LinearRegression\n",
        "from sklearn.datasets import load_diabetes\n",
        "\n",
        "\n",
        "experiment_name = \"diabetes-linear-regression\"\n",
        "\n",
        "\n",
        "with mlflow.start_run(run_name=\"linear-regression-model\") as run:\n",
        "# Load the dataset\n",
        "  diabetes = load_diabetes()\n",
        "  df = pd.DataFrame(diabetes.data, columns=diabetes.feature_names)\n",
        "  df['target'] = diabetes.target\n",
        "  # Split the dataset into training and testing sets\n",
        "  X = df.drop('target', axis=1)\n",
        "  y = df['target']\n",
        "  X_train, X_test, y_train, y_test = train_test_split(X, y, test_size=0.2, random_state=42)\n",
        "\n",
        "  # Scale the data using StandardScaler\n",
        "  scaler = StandardScaler()\n",
        "  X_train_scaled = scaler.fit_transform(X_train)\n",
        "  X_test_scaled = scaler.transform(X_test)\n",
        "\n",
        "  # Train the model\n",
        "  model = LinearRegression()\n",
        "  model.fit(X_train_scaled, y_train)\n",
        "\n",
        "  # Test the model\n",
        "  y_pred = model.predict(X_test_scaled)\n",
        "\n",
        "  # Log the model's metrics\n",
        "  mlflow.log_metric(\"mean_absolute_error\", np.abs(y_test - y_pred).mean())\n",
        "  mlflow.log_metric(\"mean_squared_error\", ((y_test - y_pred)**2).mean())\n",
        "  mlflow.log_metric(\"r2_score\", model.score(X_test_scaled, y_test))\n",
        "\n",
        "  # Save the model's artifacts\n",
        "  mlflow.sklearn.log_model(model, \"model\")\n",
        "\n",
        "  # Print the run ID and the artifacts' URI\n",
        "  run_id = run.info.run_id\n",
        "  artifacts_uri = MlflowClient().get_run(run_id).info.artifact_uri\n",
        "  print(f\"Run ID: {run_id}\")\n",
        "  print(f\"Artifacts URI: {artifacts_uri}\")\n",
        "\n",
        "  # Launch the MLflow dashboard\n",
        "  !mlflow ui --port 5000 --host 0.0.0.0 &\n"
      ],
      "metadata": {
        "colab": {
          "base_uri": "https://localhost:8080/"
        },
        "id": "FVVo9ZWOY3zV",
        "outputId": "68b4c328-2bbc-4586-d37a-515404ffd2a3"
      },
      "execution_count": 11,
      "outputs": [
        {
          "output_type": "stream",
          "name": "stdout",
          "text": [
            "Run ID: 6f538f0135f741bc99801a0873c8b6d2\n",
            "Artifacts URI: file:///content/mlruns/0/6f538f0135f741bc99801a0873c8b6d2/artifacts\n",
            "[2023-05-05 14:50:54 +0000] [4702] [INFO] Starting gunicorn 20.1.0\n",
            "[2023-05-05 14:50:54 +0000] [4702] [INFO] Listening at: http://0.0.0.0:5000 (4702)\n",
            "[2023-05-05 14:50:54 +0000] [4702] [INFO] Using worker: sync\n",
            "[2023-05-05 14:50:54 +0000] [4707] [INFO] Booting worker with pid: 4707\n",
            "[2023-05-05 14:50:54 +0000] [4708] [INFO] Booting worker with pid: 4708\n",
            "[2023-05-05 14:50:54 +0000] [4709] [INFO] Booting worker with pid: 4709\n",
            "[2023-05-05 14:50:54 +0000] [4710] [INFO] Booting worker with pid: 4710\n",
            "[2023-05-05 14:57:42 +0000] [4702] [INFO] Handling signal: int\n",
            "[2023-05-05 14:57:42 +0000] [4710] [INFO] Worker exiting (pid: 4710)\n",
            "[2023-05-05 14:57:42 +0000] [4709] [INFO] Worker exiting (pid: 4709)\n",
            "[2023-05-05 14:57:42 +0000] [4707] [INFO] Worker exiting (pid: 4707)\n",
            "[2023-05-05 14:57:42 +0000] [4708] [INFO] Worker exiting (pid: 4708)\n",
            "[2023-05-05 14:57:43 +0000] [4702] [INFO] Shutting down: Master\n"
          ]
        }
      ]
    },
    {
      "cell_type": "code",
      "source": [],
      "metadata": {
        "id": "oBG4EaZNY4Ee"
      },
      "execution_count": null,
      "outputs": []
    },
    {
      "cell_type": "code",
      "source": [],
      "metadata": {
        "id": "fKTYGHKHY4Gu"
      },
      "execution_count": null,
      "outputs": []
    },
    {
      "cell_type": "code",
      "source": [],
      "metadata": {
        "id": "lDX0bJrqY4Je"
      },
      "execution_count": null,
      "outputs": []
    }
  ]
}